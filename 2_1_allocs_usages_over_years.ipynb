{
 "cells": [
  {
   "cell_type": "markdown",
   "metadata": {},
   "source": [
    "\n",
    "-  Through the comparison of yearly allocated cpu given to users, their usage and total available cpu, we witness an obvious declined usage portion with the increase of year. \n",
    "- Additionally, the allocations are much lower than available resources in recent 2 years, indicating there is only not under-usage but also insufficient utilization of available resources."
   ]
  },
  {
   "cell_type": "code",
   "execution_count": 63,
   "metadata": {
    "collapsed": true
   },
   "outputs": [],
   "source": [
    "%run include/required_libs.py\n",
    "%matplotlib inline"
   ]
  },
  {
   "cell_type": "code",
   "execution_count": 64,
   "metadata": {
    "scrolled": true
   },
   "outputs": [
    {
     "data": {
      "text/html": [
       "<div>\n",
       "<style>\n",
       "    .dataframe thead tr:only-child th {\n",
       "        text-align: right;\n",
       "    }\n",
       "\n",
       "    .dataframe thead th {\n",
       "        text-align: left;\n",
       "    }\n",
       "\n",
       "    .dataframe tbody tr th {\n",
       "        vertical-align: top;\n",
       "    }\n",
       "</style>\n",
       "<table border=\"1\" class=\"dataframe\">\n",
       "  <thead>\n",
       "    <tr style=\"text-align: right;\">\n",
       "      <th></th>\n",
       "      <th>cycle</th>\n",
       "      <th>allocation</th>\n",
       "    </tr>\n",
       "  </thead>\n",
       "  <tbody>\n",
       "    <tr>\n",
       "      <th>0</th>\n",
       "      <td>2013</td>\n",
       "      <td>9245000.0</td>\n",
       "    </tr>\n",
       "    <tr>\n",
       "      <th>1</th>\n",
       "      <td>2014</td>\n",
       "      <td>25829000.0</td>\n",
       "    </tr>\n",
       "    <tr>\n",
       "      <th>2</th>\n",
       "      <td>2015</td>\n",
       "      <td>43630671.0</td>\n",
       "    </tr>\n",
       "    <tr>\n",
       "      <th>3</th>\n",
       "      <td>2016</td>\n",
       "      <td>51736375.0</td>\n",
       "    </tr>\n",
       "    <tr>\n",
       "      <th>4</th>\n",
       "      <td>2017</td>\n",
       "      <td>84270426.0</td>\n",
       "    </tr>\n",
       "    <tr>\n",
       "      <th>5</th>\n",
       "      <td>2018</td>\n",
       "      <td>106894557.0</td>\n",
       "    </tr>\n",
       "  </tbody>\n",
       "</table>\n",
       "</div>"
      ],
      "text/plain": [
       "   cycle   allocation\n",
       "0   2013    9245000.0\n",
       "1   2014   25829000.0\n",
       "2   2015   43630671.0\n",
       "3   2016   51736375.0\n",
       "4   2017   84270426.0\n",
       "5   2018  106894557.0"
      ]
     },
     "execution_count": 64,
     "metadata": {},
     "output_type": "execute_result"
    }
   ],
   "source": [
    "alloc = pd.read_csv('rawdata/allocs_by_cycle_group.csv')\n",
    "alloc = alloc.groupby('cycle')['allocation'].sum().to_frame()\n",
    "alloc = alloc.reset_index()\n",
    "alloc"
   ]
  },
  {
   "cell_type": "code",
   "execution_count": 65,
   "metadata": {
    "collapsed": true
   },
   "outputs": [],
   "source": [
    "avall = pd.read_csv('../rcc/rawdata/cluster_cores_by_cycles.csv')"
   ]
  },
  {
   "cell_type": "code",
   "execution_count": 66,
   "metadata": {
    "scrolled": true
   },
   "outputs": [
    {
     "data": {
      "text/html": [
       "<div>\n",
       "<style>\n",
       "    .dataframe thead tr:only-child th {\n",
       "        text-align: right;\n",
       "    }\n",
       "\n",
       "    .dataframe thead th {\n",
       "        text-align: left;\n",
       "    }\n",
       "\n",
       "    .dataframe tbody tr th {\n",
       "        vertical-align: top;\n",
       "    }\n",
       "</style>\n",
       "<table border=\"1\" class=\"dataframe\">\n",
       "  <thead>\n",
       "    <tr style=\"text-align: right;\">\n",
       "      <th></th>\n",
       "      <th>cycle</th>\n",
       "      <th>consumed</th>\n",
       "      <th>allocated</th>\n",
       "      <th>available</th>\n",
       "    </tr>\n",
       "  </thead>\n",
       "  <tbody>\n",
       "    <tr>\n",
       "      <th>0</th>\n",
       "      <td>2013</td>\n",
       "      <td>16.907530</td>\n",
       "      <td>9.245000</td>\n",
       "      <td>27.925112</td>\n",
       "    </tr>\n",
       "    <tr>\n",
       "      <th>1</th>\n",
       "      <td>2014</td>\n",
       "      <td>24.596786</td>\n",
       "      <td>25.829000</td>\n",
       "      <td>39.628809</td>\n",
       "    </tr>\n",
       "    <tr>\n",
       "      <th>2</th>\n",
       "      <td>2015</td>\n",
       "      <td>26.091431</td>\n",
       "      <td>43.630671</td>\n",
       "      <td>34.935164</td>\n",
       "    </tr>\n",
       "    <tr>\n",
       "      <th>3</th>\n",
       "      <td>2016</td>\n",
       "      <td>25.797905</td>\n",
       "      <td>51.736375</td>\n",
       "      <td>34.999115</td>\n",
       "    </tr>\n",
       "    <tr>\n",
       "      <th>4</th>\n",
       "      <td>2017</td>\n",
       "      <td>61.462770</td>\n",
       "      <td>84.270426</td>\n",
       "      <td>127.595111</td>\n",
       "    </tr>\n",
       "    <tr>\n",
       "      <th>5</th>\n",
       "      <td>2018</td>\n",
       "      <td>99.807392</td>\n",
       "      <td>106.894557</td>\n",
       "      <td>153.027033</td>\n",
       "    </tr>\n",
       "  </tbody>\n",
       "</table>\n",
       "</div>"
      ],
      "text/plain": [
       "   cycle   consumed   allocated   available\n",
       "0   2013  16.907530    9.245000   27.925112\n",
       "1   2014  24.596786   25.829000   39.628809\n",
       "2   2015  26.091431   43.630671   34.935164\n",
       "3   2016  25.797905   51.736375   34.999115\n",
       "4   2017  61.462770   84.270426  127.595111\n",
       "5   2018  99.807392  106.894557  153.027033"
      ]
     },
     "execution_count": 66,
     "metadata": {},
     "output_type": "execute_result"
    }
   ],
   "source": [
    "usage = pd.read_csv('rawdata/usages_by_cycle_group.csv')\n",
    "used = usage.groupby('cycle')['su'].sum().to_frame().reset_index()\n",
    "\n",
    "gap_day = list(usage.groupby(['cycle']).count()['su'])[-1]   #Projection\n",
    "used['su_projected'] = used['su']\n",
    "used.iloc[-1, -1] = used['su'].iloc[-1] * 365 / gap_day \n",
    "\n",
    "used.to_csv('result/2_1_usages_by_clcly_(projection).csv', index=False)\n",
    "\n",
    "\n",
    "used['total_su'] = avall['total_su']\n",
    "used['allocation'] = alloc['allocation']\n",
    "\n",
    "used['consumed'] = used['su_projected']/1000000\n",
    "used['allocated'] = used['allocation']/1000000\n",
    "used['available'] = used['total_su']/1000000\n",
    "used = used.drop(['total_su', 'allocation','su','su_projected'], axis=1, inplace=False)\n",
    "\n",
    "\n",
    "# correction of legacy\n",
    "leg = pd.read_csv('rawdata/legacy_summary.csv')\n",
    "used.loc[5,'consumed'] = sum(leg['usage'])/1000000 +used.loc[5,'consumed'] \n",
    "\n",
    "used.to_csv('result/2_1_allocs_usages_over_years.csv')\n",
    "used"
   ]
  },
  {
   "cell_type": "code",
   "execution_count": 67,
   "metadata": {},
   "outputs": [
    {
     "data": {
      "image/png": "[encoded data removed]",
      "text/plain": [
       "<matplotlib.figure.Figure at 0x7f459b1db0b8>"
      ]
     },
     "metadata": {},
     "output_type": "display_data"
    }
   ],
   "source": [
    "fig, ax = plt.subplots()\n",
    "\n",
    "a = ax.bar(used.cycle, used['allocated'],color='#F4A460')\n",
    "b = ax.bar(used.cycle, used['consumed'],color='#556B2F')\n",
    "ax.plot(used.cycle, used['available'], color='black')\n",
    "c,= ax.plot(used.cycle, used['available'], 'ko', color='#a11b11',markersize=15);\n",
    "\n",
    "plt.legend((a,b,c),('Allocation','Consumed','Available'), fontsize=15);  ## lengend size  + rename legends\n",
    "plt.ylabel('Usage in millions', fontsize=18)                             ## label size\n",
    "plt.xlabel('Cycle', fontsize=16)\n",
    "\n",
    "ax.xaxis.set_tick_params(labelsize=15)                                             ## tick size\n",
    "ax.yaxis.set_tick_params(labelsize=15)\n",
    "fig.set_size_inches(10, 8)                                                         ## figure size\n",
    "plt.axhline(y=avall['broadwl'].iloc[-1]/1000000, color='r', linestyle='--');\n",
    "\n",
    "fig.savefig('image/2_1_allocs_usages_over_years.png')"
   ]
  },
  {
   "cell_type": "code",
   "execution_count": null,
   "metadata": {
    "collapsed": true
   },
   "outputs": [],
   "source": []
  }
 ],
 "metadata": {
  "kernelspec": {
   "display_name": "Python 3",
   "language": "python",
   "name": "python3"
  },
  "language_info": {
   "codemirror_mode": {
    "name": "ipython",
    "version": 3
   },
   "file_extension": ".py",
   "mimetype": "text/x-python",
   "name": "python",
   "nbconvert_exporter": "python",
   "pygments_lexer": "ipython3",
   "version": "3.6.3"
  }
 },
 "nbformat": 4,
 "nbformat_minor": 2
}
