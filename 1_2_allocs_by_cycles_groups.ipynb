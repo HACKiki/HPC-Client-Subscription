{
 "cells": [
  {
   "cell_type": "markdown",
   "metadata": {},
   "source": [
    "# Allocation by cycles groups"
   ]
  },
  {
   "cell_type": "markdown",
   "metadata": {},
   "source": [
    "## introduction\n",
    "The purpose of this script is to generate the data table of usage information by each group in each year. The data source is from the table \"midway_allocation\". \n",
    "The script will generate the 6 yearly data file 'years_detail_usages.csv' with three columns: \n",
    " - cycle: 201X means subtotals from allocation records ended between 10/01/201(X-1) to 09/30/201X\n",
    " - account: account name\n",
    " - allocation: total SUs allocated\n",
    "\n",
    "#### Sum up yearly allocations to get a data file 'allocs_by_cycle_group.csv'. "
   ]
  },
  {
   "cell_type": "code",
   "execution_count": 1,
   "metadata": {
    "collapsed": true
   },
   "outputs": [],
   "source": [
    "%run include/required_libs.py\n",
    "%matplotlib inline"
   ]
  },
  {
   "cell_type": "code",
   "execution_count": 2,
   "metadata": {
    "collapsed": true
   },
   "outputs": [],
   "source": [
    "cycles = range(2013,2019)"
   ]
  },
  {
   "cell_type": "code",
   "execution_count": 3,
   "metadata": {
    "collapsed": true
   },
   "outputs": [],
   "source": [
    "for year in cycles:\n",
    "    a = '''select account,\n",
    "        sum(`cpuhours`) as `allocation`\n",
    "        from midway_allocation\n",
    "        where (type ='Research I' or type ='Research II') and allocation_period_id = '''\n",
    "\n",
    "\n",
    "    c = '''\n",
    "        group by account \n",
    "        order by `allocation` desc'''\n",
    "    \n",
    "    yearly = pd.read_sql(a + str(year-2011) + c, cnx)\n",
    "    yearly.to_csv('rawdata/allocs_by_group_' + str(year) + '.csv', index=False)"
   ]
  },
  {
   "cell_type": "markdown",
   "metadata": {
    "collapsed": true
   },
   "source": [
    "- We firstly get the detailed allocations that grouped by cycles and groups"
   ]
  },
  {
   "cell_type": "code",
   "execution_count": 4,
   "metadata": {},
   "outputs": [
    {
     "data": {
      "text/html": [
       "<div>\n",
       "<style>\n",
       "    .dataframe thead tr:only-child th {\n",
       "        text-align: right;\n",
       "    }\n",
       "\n",
       "    .dataframe thead th {\n",
       "        text-align: left;\n",
       "    }\n",
       "\n",
       "    .dataframe tbody tr th {\n",
       "        vertical-align: top;\n",
       "    }\n",
       "</style>\n",
       "<table border=\"1\" class=\"dataframe\">\n",
       "  <thead>\n",
       "    <tr style=\"text-align: right;\">\n",
       "      <th></th>\n",
       "      <th>account</th>\n",
       "      <th>allocation</th>\n",
       "      <th>cycle</th>\n",
       "    </tr>\n",
       "  </thead>\n",
       "  <tbody>\n",
       "    <tr>\n",
       "      <th>1</th>\n",
       "      <td>pi-gavoth</td>\n",
       "      <td>1325000.0</td>\n",
       "      <td>2013</td>\n",
       "    </tr>\n",
       "    <tr>\n",
       "      <th>0</th>\n",
       "      <td>pi-gavoth</td>\n",
       "      <td>2494000.0</td>\n",
       "      <td>2014</td>\n",
       "    </tr>\n",
       "    <tr>\n",
       "      <th>0</th>\n",
       "      <td>pi-gavoth</td>\n",
       "      <td>3610560.0</td>\n",
       "      <td>2015</td>\n",
       "    </tr>\n",
       "    <tr>\n",
       "      <th>1</th>\n",
       "      <td>pi-gavoth</td>\n",
       "      <td>2600000.0</td>\n",
       "      <td>2016</td>\n",
       "    </tr>\n",
       "    <tr>\n",
       "      <th>0</th>\n",
       "      <td>pi-gavoth</td>\n",
       "      <td>6548000.0</td>\n",
       "      <td>2017</td>\n",
       "    </tr>\n",
       "    <tr>\n",
       "      <th>1</th>\n",
       "      <td>pi-gavoth</td>\n",
       "      <td>4000000.0</td>\n",
       "      <td>2018</td>\n",
       "    </tr>\n",
       "  </tbody>\n",
       "</table>\n",
       "</div>"
      ],
      "text/plain": [
       "     account  allocation  cycle\n",
       "1  pi-gavoth   1325000.0   2013\n",
       "0  pi-gavoth   2494000.0   2014\n",
       "0  pi-gavoth   3610560.0   2015\n",
       "1  pi-gavoth   2600000.0   2016\n",
       "0  pi-gavoth   6548000.0   2017\n",
       "1  pi-gavoth   4000000.0   2018"
      ]
     },
     "execution_count": 4,
     "metadata": {},
     "output_type": "execute_result"
    }
   ],
   "source": [
    "allocs_by_cycle_group = pd.DataFrame()\n",
    "for year in cycles:\n",
    "    yearly = pd.read_csv('rawdata/allocs_by_group_' + str(year) + '.csv')\n",
    "    yearly['cycle']= year\n",
    "    allocs_by_cycle_group = allocs_by_cycle_group.append(yearly)\n",
    "    \n",
    "allocs_by_cycle_group.to_csv('rawdata/allocs_by_cycle_group.csv', index=False)\n",
    "allocs_by_cycle_group[allocs_by_cycle_group['account']=='pi-gavoth']"
   ]
  }
 ],
 "metadata": {
  "kernelspec": {
   "display_name": "Python 3",
   "language": "python",
   "name": "python3"
  },
  "language_info": {
   "codemirror_mode": {
    "name": "ipython",
    "version": 3
   },
   "file_extension": ".py",
   "mimetype": "text/x-python",
   "name": "python",
   "nbconvert_exporter": "python",
   "pygments_lexer": "ipython3",
   "version": "3.6.3"
  }
 },
 "nbformat": 4,
 "nbformat_minor": 2
}
